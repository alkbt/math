{
 "cells": [
  {
   "cell_type": "markdown",
   "metadata": {},
   "source": [
    "# Линейная алгебра"
   ]
  },
  {
   "cell_type": "markdown",
   "metadata": {},
   "source": [
    "## Вектор\n",
    "\n",
    "v = $\\begin{bmatrix} v_1 \\\\ v_2 \\\\ . \\\\ . \\\\ v_n \\end{bmatrix}$\n",
    "\n",
    "#### Линейная комбинация векторов\n",
    "\n",
    "Комбинация векторного сложения и скалярного умножения векторов\n",
    "\n",
    "с*$\\begin{bmatrix} v_1 \\\\ v_2\\\\ .\\\\ . \\\\ v_n \\end{bmatrix}$ + d*$\\begin{bmatrix} w_1 \\\\ w_2 \\\\ .\\\\ . \\\\ w_n \\end{bmatrix}$ = $\\begin{bmatrix} c * v_1 + d * w_1 \\\\ c * v_2 + d * w_2 \\\\ .\\\\ . \\\\ c * v_n + d * w_n\\end{bmatrix}$\n",
    "\n",
    "#### Длина вектора\n",
    "$v = \\begin{bmatrix} v_1 \\\\ v_2\\\\ .\\\\ . \\\\ v_n \\end{bmatrix}$\n",
    "\n",
    "$|v| = \\sqrt{v_1^2 + v_2^2 + ... + v_n^2}$\n",
    "\n",
    "\n",
    "#### Скалярное произведение векторов\n",
    "\n",
    "$\\begin{bmatrix} v_1 \\\\ v_2\\\\ .\\\\ . \\\\ v_n \\end{bmatrix}$ . $\\begin{bmatrix} w_1 \\\\ w_2\\\\ .\\\\ . \\\\ w_n \\end{bmatrix}$ = \n",
    "$v_1 * w_1 + v_2 * w_2 + \\dots + v_n * w_n $\n",
    "\n",
    "![Image](https://upload.wikimedia.org/wikipedia/commons/thumb/5/51/Dot_product_cosine_rule.svg/106px-Dot_product_cosine_rule.svg.png)\n",
    "\n",
    "По теореме косинусов: \n",
    "\n",
    "$|a|^2 + |b|^2 - 2*|a||b|\\cos{\\theta} = |a - b|^2$.\n",
    "\n",
    "$|a-b|^2 = (a-b).(a-b) = a.a - 2*a.b + b.b = |a|^2 - 2*a.b + |b|^2$.\n",
    "\n",
    "$|a|^2 - 2*a.b + |b|^2 = |a|^2 + |b|^2 - 2*|a||b|\\cos{\\theta}$.\n",
    "\n",
    "Сокращаем:\n",
    "\n",
    "$\\boldsymbol{a.b = |a||b|\\cos{\\theta}}$.\n",
    "\n",
    "#### Проекция векторов\n",
    "\n",
    "![Image](https://upload.wikimedia.org/wikipedia/commons/9/98/Projection_and_rejection.png)\n",
    "\n",
    "$|a_1| = |a|\\cos{\\theta}$.\n",
    "\n",
    "$a.b = |a||b|\\cos{\\theta} \\Rightarrow \\boldsymbol{|a_1| = \\frac{a.b}{|b|}}$.\n",
    "\n",
    "$a_1 = \\frac{b}{|b|}|a_1| \\Rightarrow \\boldsymbol{a_1 = b\\frac{a.b}{|b|^2}}$.\n",
    "\n",
    "#### Замена базиса\n",
    "Применимо только если вектора в новом базисе ортогональны. Для замены базиса необходимо определить длину проекций вектора на новые базисные в единицах их длины.\n",
    "\n",
    "$v = \\begin{bmatrix} v_1 \\\\ . \\\\ .\\\\ v_n \\end{bmatrix}, u_1 = \\begin{bmatrix} u_{11} \\\\ . \\\\ .\\\\ v_{1n} \\end{bmatrix} \\dots u_n = \\begin{bmatrix} u_{n1} \\\\ . \\\\ .\\\\ v_{nn} \\end{bmatrix}$\n",
    "\n",
    "$v^u = \\begin{bmatrix} |v_1^{u_1}| \\\\ . \\\\ .\\\\ |v_n^{u_n}| \\end{bmatrix}$, где:\n",
    "\n",
    "$|v_i^{u_i}| = \\frac{a.u_i}{|u_i|^2}$"
   ]
  },
  {
   "cell_type": "markdown",
   "metadata": {},
   "source": [
    "## Матрица\n",
    "\n",
    "$c = \\begin{bmatrix} \n",
    "    c_{1,1} & c_{1,2} & ... & c_{1,m} \\\\\n",
    "    c_{2,1} & c_{2,2} & ... & c_{2,m} \\\\\n",
    "    ... \\\\\n",
    "    c_{n,1} & c_{n,2} & ... & c_{n,m} \n",
    "\\end{bmatrix}$\n",
    "\n",
    "#### Умножение матриц\n",
    "\n",
    "$c_{i,j} = a \\times b = \\sum_{k=1}^{m} a_{i,k}*b_{k,j} $\n",
    "\n",
    "#### Матричные трансформации\n",
    "\n",
    "Умножение матрицы на вектор можно рассматривать, как трансформацию базисных векторов.\n",
    "\n",
    "$c = \\begin{bmatrix} \n",
    "    c_{1,1} & c_{1,2} \\\\\n",
    "    c_{2,1} & c_{2,2}\\\\\n",
    "\\end{bmatrix}, \n",
    "\\bar{e_1} = \\begin{bmatrix} 1 \\\\ 0 \\end{bmatrix}, \n",
    "\\bar{e_2} = \\begin{bmatrix} 0 \\\\ 1 \\end{bmatrix}$\n",
    "\n",
    "$c \\times \\bar{e_1} = \\begin{bmatrix} c_{1,1} \\\\ c_{2,1} \\end{bmatrix}$ \n",
    "\n",
    "$c \\times \\bar{e_2} = \\begin{bmatrix} c_{1,2} \\\\ c_{2,2} \\end{bmatrix}$\n",
    "\n",
    "##### Единичная матрица\n",
    "\n",
    "$I = \\begin{bmatrix} \n",
    "    1 & 0 \\\\\n",
    "    0 & 1\\\\\n",
    "\\end{bmatrix}$ - не меняет вектор.\n",
    "\n",
    "$I \\times \\bar{e_1} = \\bar{e_1}$\n",
    "\n",
    "$I \\times \\bar{e_2} = \\bar{e_2}$"
   ]
  },
  {
   "cell_type": "markdown",
   "metadata": {},
   "source": [
    "##### Масштабирование\n",
    "\n",
    "$c = \\begin{bmatrix} \n",
    "    m_1 & 0 \\\\\n",
    "    0 & m_2\\\\\n",
    "\\end{bmatrix}$ - масштибирует вектор вдоль соответствующих осей."
   ]
  },
  {
   "cell_type": "code",
   "execution_count": 75,
   "metadata": {},
   "outputs": [
    {
     "name": "stdout",
     "output_type": "stream",
     "text": [
      "[[ 6 12]]\n"
     ]
    }
   ],
   "source": [
    "import numpy as np\n",
    "\n",
    "c = np.matrix(\n",
    "    [[3, 0],\n",
    "     [0, 4]])\n",
    "v = np.array(\n",
    "    [2,\n",
    "     3])\n",
    "\n",
    "print(np.dot(c,v))"
   ]
  },
  {
   "cell_type": "markdown",
   "metadata": {},
   "source": [
    "##### Симметричное отображение\n",
    "\n",
    "$c = \\begin{bmatrix} \n",
    "    -1 & 0 \\\\\n",
    "    0 & -1\\\\\n",
    "\\end{bmatrix}$ - симметрично отображает вдоль соответствующих осей."
   ]
  },
  {
   "cell_type": "code",
   "execution_count": 81,
   "metadata": {},
   "outputs": [
    {
     "name": "stdout",
     "output_type": "stream",
     "text": [
      "[[-2 -3]]\n"
     ]
    }
   ],
   "source": [
    "c = np.matrix(\n",
    "    [[-1, 0],\n",
    "     [0, -1]])\n",
    "v = np.array([2,3])\n",
    "\n",
    "print(np.dot(c,v))"
   ]
  },
  {
   "cell_type": "markdown",
   "metadata": {},
   "source": [
    "##### Перемена базисных векторов\n",
    "\n",
    "$c = \\begin{bmatrix} \n",
    "    0 & 1 \\\\\n",
    "    1 & 0 \\\\\n",
    "\\end{bmatrix}$ - меняет между собой базисные вектора."
   ]
  },
  {
   "cell_type": "code",
   "execution_count": 80,
   "metadata": {},
   "outputs": [
    {
     "name": "stdout",
     "output_type": "stream",
     "text": [
      "[[3 2]]\n"
     ]
    }
   ],
   "source": [
    "c = np.matrix(\n",
    "    [[0, 1],\n",
    "     [1, 0]])\n",
    "v = np.array([2,3])\n",
    "\n",
    "print(np.dot(c,v))"
   ]
  },
  {
   "cell_type": "markdown",
   "metadata": {},
   "source": [
    "##### Наклон вдоль осей\n",
    "\n",
    "$c = \\begin{bmatrix} \n",
    "    1 & 1 \\\\\n",
    "    0 & 1 \\\\\n",
    "\\end{bmatrix}$.\n",
    "\n",
    "![title](images/lin_al_mtx_trnsfrm.png)"
   ]
  },
  {
   "cell_type": "code",
   "execution_count": 132,
   "metadata": {},
   "outputs": [
    {
     "name": "stdout",
     "output_type": "stream",
     "text": [
      "[[1.5 1. ]]\n"
     ]
    }
   ],
   "source": [
    "c = np.matrix(\n",
    "    [[1, 1],\n",
    "     [0, 1]])\n",
    "v = np.array([0.5,1])\n",
    "\n",
    "print(np.dot(c,v))"
   ]
  },
  {
   "cell_type": "markdown",
   "metadata": {},
   "source": [
    "##### Вращение\n",
    "\n",
    "$c = \\begin{bmatrix} \n",
    "    \\cos{\\theta} & \\sin{\\theta} \\\\\n",
    "    -\\sin{\\theta} & \\cos{\\theta} \\\\\n",
    "\\end{bmatrix}$."
   ]
  },
  {
   "cell_type": "code",
   "execution_count": null,
   "metadata": {},
   "outputs": [],
   "source": []
  }
 ],
 "metadata": {
  "kernelspec": {
   "display_name": "Python 3",
   "language": "python",
   "name": "python3"
  },
  "language_info": {
   "codemirror_mode": {
    "name": "ipython",
    "version": 3
   },
   "file_extension": ".py",
   "mimetype": "text/x-python",
   "name": "python",
   "nbconvert_exporter": "python",
   "pygments_lexer": "ipython3",
   "version": "3.7.0"
  }
 },
 "nbformat": 4,
 "nbformat_minor": 2
}
