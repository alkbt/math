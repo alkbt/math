{
 "cells": [
  {
   "cell_type": "markdown",
   "metadata": {},
   "source": [
    "# Линейная алгебра"
   ]
  },
  {
   "cell_type": "markdown",
   "metadata": {},
   "source": [
    "## Вектор\n",
    "\n",
    "v = $\\begin{bmatrix} v_1 \\\\ v_2 \\\\ . \\\\ . \\\\ v_n \\end{bmatrix}$\n",
    "\n",
    "#### Линейная комбинация векторов\n",
    "\n",
    "Комбинация векторного сложения и скалярного умножения векторов\n",
    "\n",
    "с*$\\begin{bmatrix} v_1 \\\\ v_2\\\\ .\\\\ . \\\\ v_n \\end{bmatrix}$ + d*$\\begin{bmatrix} w_1 \\\\ w_2 \\\\ .\\\\ . \\\\ w_n \\end{bmatrix}$ = $\\begin{bmatrix} c * v_1 + d * w_1 \\\\ c * v_2 + d * w_2 \\\\ .\\\\ . \\\\ c * v_n + d * w_n\\end{bmatrix}$\n",
    "\n",
    "#### Длина вектора\n",
    "$v = \\begin{bmatrix} v_1 \\\\ v_2\\\\ .\\\\ . \\\\ v_n \\end{bmatrix}$\n",
    "\n",
    "$|v| = \\sqrt{v_1^2 + v_2^2 + ... + v_n^2}$\n",
    "\n",
    "\n",
    "#### Скалярное произведение векторов\n",
    "\n",
    "$\\begin{bmatrix} v_1 \\\\ v_2\\\\ .\\\\ . \\\\ v_n \\end{bmatrix}$ . $\\begin{bmatrix} w_1 \\\\ w_2\\\\ .\\\\ . \\\\ w_n \\end{bmatrix}$ = \n",
    "$v_1 * w_1 + v_2 * w_2 + ... + v_n * w_n $\n",
    "\n",
    "![Image](https://upload.wikimedia.org/wikipedia/commons/thumb/5/51/Dot_product_cosine_rule.svg/106px-Dot_product_cosine_rule.svg.png)\n",
    "\n",
    "По теореме косинусов: \n",
    "\n",
    "$|a|^2 + |b|^2 - 2*|a||b|\\cos{\\theta} = |a - b|^2$.\n",
    "\n",
    "$|a-b|^2 = (a-b).(a-b) = a.a - 2*a.b + b.b = |a|^2 - 2*a.b + |b|^2$.\n",
    "\n",
    "$|a|^2 - 2*a.b + |b|^2 = |a|^2 + |b|^2 - 2*|a||b|\\cos{\\theta}$.\n",
    "\n",
    "Сокращаем:\n",
    "\n",
    "$\\boldsymbol{a.b = |a||b|\\cos{\\theta}}$.\n",
    "\n",
    "#### Проекция векторов\n",
    "\n",
    "![Image](https://upload.wikimedia.org/wikipedia/commons/9/98/Projection_and_rejection.png)\n",
    "\n",
    "$|a_1| = |a|\\cos{\\theta}$.\n",
    "\n",
    "$a.b = |a||b|\\cos{\\theta} \\Rightarrow \\boldsymbol{|a_1| = \\frac{a.b}{|b|}}$.\n",
    "\n",
    "$a_1 = \\frac{b}{|b|}|a_1| \\Rightarrow \\boldsymbol{a_1 = b\\frac{a.b}{|b|^2}}$\n"
   ]
  },
  {
   "cell_type": "code",
   "execution_count": null,
   "metadata": {},
   "outputs": [],
   "source": []
  }
 ],
 "metadata": {
  "kernelspec": {
   "display_name": "Python 3",
   "language": "python",
   "name": "python3"
  },
  "language_info": {
   "codemirror_mode": {
    "name": "ipython",
    "version": 3
   },
   "file_extension": ".py",
   "mimetype": "text/x-python",
   "name": "python",
   "nbconvert_exporter": "python",
   "pygments_lexer": "ipython3",
   "version": "3.7.0"
  }
 },
 "nbformat": 4,
 "nbformat_minor": 2
}
