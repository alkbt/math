{
 "cells": [
  {
   "cell_type": "markdown",
   "metadata": {},
   "source": [
    "# Math tags"
   ]
  },
  {
   "cell_type": "markdown",
   "metadata": {},
   "source": [
    "## Letters\n",
    "| sym | tag|\n",
    "|-----|----|\n",
    "|$\\alpha$| \\alpa|\n",
    "|$A$|A|\n",
    "\n",
    "## Vectors and matrix\n",
    "| sym | code |\n",
    "|-----|-------------------------------------|\n",
    "|$\\begin{matrix} 1 & 2 \\\\ 3 & 4 \\end{matrix}$ | `\\begin{matrix} 1 & 2 \\\\ 3 & 4 \\end{matrix}`|\n",
    "|$\\begin{pmatrix} 1 & 2 \\\\ 3 & 4 \\end{pmatrix}$|`\\begin{pmatrix} 1 & 2 \\\\ 3 & 4 \\end{pmatrix}`|\n",
    "|$\\begin{bmatrix} 1 & 2 \\\\ 3 & 4 \\end{bmatrix}$|`\\begin{bmatrix} 1 & 2 \\\\ 3 & 4 \\end{bmatrix}`|\n"
   ]
  },
  {
   "cell_type": "code",
   "execution_count": null,
   "metadata": {},
   "outputs": [],
   "source": []
  }
 ],
 "metadata": {
  "kernelspec": {
   "display_name": "Python 3",
   "language": "python",
   "name": "python3"
  },
  "language_info": {
   "codemirror_mode": {
    "name": "ipython",
    "version": 3
   },
   "file_extension": ".py",
   "mimetype": "text/x-python",
   "name": "python",
   "nbconvert_exporter": "python",
   "pygments_lexer": "ipython3",
   "version": "3.7.0"
  }
 },
 "nbformat": 4,
 "nbformat_minor": 2
}
